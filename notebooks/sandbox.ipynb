{
 "cells": [
  {
   "cell_type": "code",
   "execution_count": 1,
   "id": "0f23f01e-5fab-4540-9cfe-a7fc17127ad2",
   "metadata": {},
   "outputs": [],
   "source": [
    "import openai"
   ]
  },
  {
   "cell_type": "code",
   "execution_count": 2,
   "id": "1af5c77f-5830-4695-a8dc-63fc98c9df12",
   "metadata": {},
   "outputs": [],
   "source": [
    "openai.api_type = \"azure\"\n",
    "openai.api_base = f\"https://your-apim.azure-api.net\"\n",
    "openai.api_version = \"2023-05-15\"\n",
    "openai.api_key = \"placeholder\""
   ]
  },
  {
   "cell_type": "code",
   "execution_count": 3,
   "id": "53a6ccea-fae1-4beb-aab9-a4c432fe86d6",
   "metadata": {},
   "outputs": [],
   "source": [
    "completion = openai.ChatCompletion.create(\n",
    "    engine=\"chat\",\n",
    "    messages=[\n",
    "        {\"role\": \"user\", \"content\": \"中日ドラゴンズについて教えて\"},\n",
    "    ],\n",
    ")"
   ]
  },
  {
   "cell_type": "code",
   "execution_count": 4,
   "id": "682ef07f-bc35-4af4-8c1e-24b26f4f2423",
   "metadata": {},
   "outputs": [
    {
     "data": {
      "text/plain": [
       "'中日ドラゴンズは、日本のプロ野球チームの一つで、本拠地は愛知県名古屋市のナゴヤドームです。球団の略称は「中日」で、チームのマスコットキャラクターは「ドアラ」です。\\n\\n中日ドラゴンズは、横浜大洋ホエールズが東京ヤクルトスワローズと合併して誕生した際に、同じく合併した広島東洋カープが入ったセントラル・リーグに加盟し、1954年に創設されました。通算最多優勝回数を誇る広島東洋カープに次いで2番目に多い、9回のリーグ優勝と3回の日本シリーズ優勝を経験しています。\\n\\n中日ドラゴンズの特徴の一つは、投手陣の強さです。広島東洋カープのように長年にわたって一定のスタイルを持っているわけではありませんが、優秀な先発投手を輩出することが多く、上手に起用されています。\\n\\nまた、中日ドラゴンズは、過去に多くの名選手を輩出してきました。例えば、阪神タイガースで活躍した桑田真澄や、元メジャーリーガーの松坂大輔、NPB通算本塁打記録保持者の松井秀喜などが所属していたことでも知られています。'"
      ]
     },
     "execution_count": 4,
     "metadata": {},
     "output_type": "execute_result"
    }
   ],
   "source": [
    "completion.choices[0].message.content"
   ]
  },
  {
   "cell_type": "code",
   "execution_count": null,
   "id": "82a9ce88-a9df-4351-b9c1-3a17c9ca79bd",
   "metadata": {},
   "outputs": [],
   "source": []
  }
 ],
 "metadata": {
  "kernelspec": {
   "display_name": "Python 3 (ipykernel)",
   "language": "python",
   "name": "python3"
  },
  "language_info": {
   "codemirror_mode": {
    "name": "ipython",
    "version": 3
   },
   "file_extension": ".py",
   "mimetype": "text/x-python",
   "name": "python",
   "nbconvert_exporter": "python",
   "pygments_lexer": "ipython3",
   "version": "3.10.7"
  }
 },
 "nbformat": 4,
 "nbformat_minor": 5
}
